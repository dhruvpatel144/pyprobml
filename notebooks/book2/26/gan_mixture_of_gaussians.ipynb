{
 "cells": [
  {
   "cell_type": "markdown",
   "metadata": {
    "id": "u-4qJ5kcsCNJ"
   },
   "source": [
    "<a href=\"https://colab.research.google.com/github/probml/probml-notebooks/blob/main/notebooks/gan_mixture_of_gaussians.ipynb\" target=\"_parent\"><img src=\"https://colab.research.google.com/assets/colab-badge.svg\" alt=\"Open In Colab\"/></a>"
   ]
  },
  {
   "cell_type": "markdown",
   "metadata": {
    "id": "mYaVobt8fgLx"
   },
   "source": [
    "This notebook implements a Generative Adversarial Network to fit a synthetic dataset generated from a mixture of Gaussians in 2D.\n",
    "\n",
    "The code was adapted from the ODEGAN code here: https://github.com/deepmind/deepmind-research/blob/master/ode_gan/odegan_mog16.ipynb. The original notebook was created by **Chongli Qin‎**.\n",
    "\n",
    "Some modifications made by **Mihaela Rosca** [here](https://github.com/probml/probml-notebooks/blob/main/notebooks/gan_mog_mode_hopping.ipynb) were also incorporated."
   ]
  },
  {
   "cell_type": "markdown",
   "metadata": {
    "id": "W1C7gAf0fMo0"
   },
   "source": [
    "# Imports"
   ]
  },
  {
   "cell_type": "code",
   "execution_count": 18,
   "metadata": {
    "colab": {
     "base_uri": "https://localhost:8080/"
    },
    "id": "VCB_vW4XbVWS",
    "outputId": "8462b327-ab3e-420d-b595-63f6f76e13ab"
   },
   "outputs": [
    {
     "name": "stdout",
     "output_type": "stream",
     "text": [
      "Note: you may need to restart the kernel to use updated packages.\n"
     ]
    }
   ],
   "source": [
    "%pip install -qq flax\n",
    "import flax.linen as nn\n",
    "from flax.training import train_state"
   ]
  },
  {
   "cell_type": "code",
   "execution_count": 19,
   "metadata": {
    "id": "TtVtS7iEcSqn"
   },
   "outputs": [
    {
     "name": "stdout",
     "output_type": "stream",
     "text": [
      "Note: you may need to restart the kernel to use updated packages.\n"
     ]
    }
   ],
   "source": [
    "from typing import Sequence\n",
    "import matplotlib.pyplot as plt\n",
    "\n",
    "%matplotlib inline\n",
    "\n",
    "%pip install -qq jax==0.3.14\n",
    "import jax\n",
    "import jax.numpy as jnp\n",
    "\n",
    "try:\n",
    "    import optax\n",
    "except ModuleNotFoundError:\n",
    "    %pip install optax\n",
    "    import optax\n",
    "\n",
    "import functools\n",
    "import scipy as sp\n",
    "import math\n",
    "\n",
    "try:\n",
    "    import seaborn as sns\n",
    "except ModuleNotFoundError:\n",
    "    %pip install -qq seaborn\n",
    "    import seaborn as sns\n",
    "\n",
    "try:\n",
    "    import probml_utils as pml\n",
    "    from probml_utils import savefig, latexify\n",
    "except ModuleNotFoundError:\n",
    "    %pip install -qq git+https://github.com/probml/probml-utils.git\n",
    "    import probml_utils as pml\n",
    "    from probml_utils import savefig, latexify\n",
    "\n",
    "rng = jax.random.PRNGKey(0)"
   ]
  },
  {
   "cell_type": "code",
   "execution_count": 20,
   "metadata": {
    "id": "mcRzxsmC_uA9"
   },
   "outputs": [],
   "source": [
    "latexify(width_scale_factor=3, fig_height=1.5)"
   ]
  },
  {
   "cell_type": "markdown",
   "metadata": {
    "id": "tiOvgWUBfXVR"
   },
   "source": [
    "# Data Generation\n",
    "\n",
    "Data is generated from a 2D mixture of Gaussians."
   ]
  },
  {
   "cell_type": "code",
   "execution_count": 21,
   "metadata": {
    "id": "nZaB-Mpbd-pZ"
   },
   "outputs": [],
   "source": [
    "@functools.partial(jax.jit, static_argnums=(1,))\n",
    "def real_data(rng, batch_size):\n",
    "    mog_mean = jnp.array(\n",
    "        [\n",
    "            [1.50, 1.50],\n",
    "            [1.50, 0.50],\n",
    "            [1.50, -0.50],\n",
    "            [1.50, -1.50],\n",
    "            [0.50, 1.50],\n",
    "            [0.50, 0.50],\n",
    "            [0.50, -0.50],\n",
    "            [0.50, -1.50],\n",
    "            [-1.50, 1.50],\n",
    "            [-1.50, 0.50],\n",
    "            [-1.50, -0.50],\n",
    "            [-1.50, -1.50],\n",
    "            [-0.50, 1.50],\n",
    "            [-0.50, 0.50],\n",
    "            [-0.50, -0.50],\n",
    "            [-0.50, -1.50],\n",
    "        ]\n",
    "    )\n",
    "    temp = jnp.tile(mog_mean, (batch_size // 16 + 1, 1))\n",
    "    mus = temp[0:batch_size, :]\n",
    "    return mus + 0.02 * jax.random.normal(rng, shape=(batch_size, 2))"
   ]
  },
  {
   "cell_type": "markdown",
   "metadata": {
    "id": "hL0kyQuikzJL"
   },
   "source": [
    "# Plotting"
   ]
  },
  {
   "cell_type": "code",
   "execution_count": 22,
   "metadata": {
    "id": "ca2U6wzPxrkN"
   },
   "outputs": [],
   "source": [
    "def plot_on_ax(ax, values, contours=None, bbox=None, xlabel=\"\", ylabel=\"\", title=\"\", cmap=\"Blues\"):\n",
    "    kernel = sp.stats.gaussian_kde(values.T)\n",
    "\n",
    "    ax.axis(bbox)\n",
    "    ax.set_aspect(abs(bbox[1] - bbox[0]) / abs(bbox[3] - bbox[2]))\n",
    "    ax.set_xlabel(xlabel)\n",
    "    ax.set_ylabel(ylabel)\n",
    "    ax.set_xticks([])\n",
    "    ax.set_yticks([])\n",
    "\n",
    "    xx, yy = jnp.mgrid[bbox[0] : bbox[1] : 300j, bbox[2] : bbox[3] : 300j]\n",
    "    positions = jnp.vstack([xx.ravel(), yy.ravel()])\n",
    "\n",
    "    f = jnp.reshape(kernel(positions).T, xx.shape)\n",
    "    cfset = ax.contourf(xx, yy, f, cmap=cmap)\n",
    "    if contours is not None:\n",
    "        x = jnp.arange(-2.0, 2.0, 0.1)\n",
    "        y = jnp.arange(-2.0, 2.0, 0.1)\n",
    "        cx, cy = jnp.meshgrid(x, y)\n",
    "        new_set = ax.contour(\n",
    "            cx, cy, contours.squeeze().reshape(cx.shape), levels=20, colors=\"k\", linewidths=0.8, alpha=0.5\n",
    "        )\n",
    "    ax.set_title(title)"
   ]
  },
  {
   "cell_type": "markdown",
   "metadata": {
    "id": "AUbMoOrCTswQ"
   },
   "source": [
    "# Models and Training"
   ]
  },
  {
   "cell_type": "markdown",
   "metadata": {
    "id": "Uw9NuytDVxAC"
   },
   "source": [
    "A multilayer perceptron with the ReLU activation function."
   ]
  },
  {
   "cell_type": "code",
   "execution_count": 23,
   "metadata": {
    "id": "Li8Aub5QcpLj"
   },
   "outputs": [],
   "source": [
    "class MLP(nn.Module):\n",
    "    features: Sequence[int]\n",
    "\n",
    "    @nn.compact\n",
    "    def __call__(self, x):\n",
    "        for feat in self.features[:-1]:\n",
    "            x = jax.nn.relu(nn.Dense(features=feat)(x))\n",
    "        x = nn.Dense(features=self.features[-1])(x)\n",
    "        return x"
   ]
  },
  {
   "cell_type": "markdown",
   "metadata": {
    "id": "RYno5LL7pBcJ"
   },
   "source": [
    "The loss function for the discriminator is:\n",
    "\n",
    "$$L_D(\\phi, \\theta) = \\mathbb{E}_{p^*(x)} g(D_\\phi(x)) + \\mathbb{E}_{q(z)}h(D_\\phi(G_\\theta(z)))$$\n",
    "\n",
    "where $g(t) = -\\log t$, $h(t) = -\\log(1 - t)$ as in the original GAN."
   ]
  },
  {
   "cell_type": "code",
   "execution_count": 24,
   "metadata": {
    "id": "NjIPjkD2ZS4e"
   },
   "outputs": [],
   "source": [
    "@jax.jit\n",
    "def discriminator_step(disc_state, gen_state, latents, real_examples):\n",
    "    def loss_fn(disc_params):\n",
    "        fake_examples = gen_state.apply_fn(gen_state.params, latents)\n",
    "        real_logits = disc_state.apply_fn(disc_params, real_examples)\n",
    "        fake_logits = disc_state.apply_fn(disc_params, fake_examples)\n",
    "        disc_real = -jax.nn.log_sigmoid(real_logits)\n",
    "        # log(1 - sigmoid(x)) = log_sigmoid(-x)\n",
    "        disc_fake = -jax.nn.log_sigmoid(-fake_logits)\n",
    "        return jnp.mean(disc_real + disc_fake)\n",
    "\n",
    "    disc_loss, disc_grad = jax.value_and_grad(loss_fn)(disc_state.params)\n",
    "    disc_state = disc_state.apply_gradients(grads=disc_grad)\n",
    "    return disc_state, disc_loss"
   ]
  },
  {
   "cell_type": "markdown",
   "metadata": {
    "id": "1OnVuZ2rWLUL"
   },
   "source": [
    "The loss function for the generator is:\n",
    "\n",
    "$$L_G(\\phi, \\theta) = \\mathbb{E}_{q(z)} l(D_\\phi(G_\\theta(z))$$\n",
    "\n",
    "where $l(t) = -\\log t$ for the non-saturating generator loss."
   ]
  },
  {
   "cell_type": "code",
   "execution_count": 25,
   "metadata": {
    "id": "eSWBd1-AbpoA"
   },
   "outputs": [],
   "source": [
    "@jax.jit\n",
    "def generator_step(disc_state, gen_state, latents):\n",
    "    def loss_fn(gen_params):\n",
    "        fake_examples = gen_state.apply_fn(gen_params, latents)\n",
    "        fake_logits = disc_state.apply_fn(disc_state.params, fake_examples)\n",
    "        disc_fake = -jax.nn.log_sigmoid(fake_logits)\n",
    "        return jnp.mean(disc_fake)\n",
    "\n",
    "    gen_loss, gen_grad = jax.value_and_grad(loss_fn)(gen_state.params)\n",
    "    gen_state = gen_state.apply_gradients(grads=gen_grad)\n",
    "    return gen_state, gen_loss"
   ]
  },
  {
   "cell_type": "markdown",
   "metadata": {
    "id": "Cd-MXeA4NCzI"
   },
   "source": [
    "Perform a training step by first updating the discriminator parameters $\\phi$ using the gradient $\\nabla_\\phi L_D (\\phi, \\theta)$ and then updating the generator parameters $\\theta$ using the gradient $\\nabla_\\theta L_G (\\phi, \\theta)$."
   ]
  },
  {
   "cell_type": "code",
   "execution_count": 26,
   "metadata": {
    "id": "ip-6hJ9LeOPa"
   },
   "outputs": [],
   "source": [
    "@jax.jit\n",
    "def train_step(disc_state, gen_state, latents, real_examples):\n",
    "    disc_state, disc_loss = discriminator_step(disc_state, gen_state, latents, real_examples)\n",
    "    gen_state, gen_loss = generator_step(disc_state, gen_state, latents)\n",
    "    return disc_state, gen_state, disc_loss, gen_loss"
   ]
  },
  {
   "cell_type": "code",
   "execution_count": 27,
   "metadata": {
    "id": "Q7o5-5rGeez_"
   },
   "outputs": [],
   "source": [
    "batch_size = 512\n",
    "latent_size = 32\n",
    "\n",
    "discriminator = MLP(features=[25, 25, 1])\n",
    "generator = MLP(features=[25, 25, 2])"
   ]
  },
  {
   "cell_type": "code",
   "execution_count": 28,
   "metadata": {
    "id": "pyzBQdYqgMf3"
   },
   "outputs": [],
   "source": [
    "# Initialize parameters for the discriminator and the generator\n",
    "latents = jax.random.normal(rng, shape=(batch_size, latent_size))\n",
    "real_examples = real_data(rng, batch_size)\n",
    "disc_params = discriminator.init(rng, real_examples)\n",
    "gen_params = generator.init(rng, latents)"
   ]
  },
  {
   "cell_type": "code",
   "execution_count": 29,
   "metadata": {
    "colab": {
     "base_uri": "https://localhost:8080/",
     "height": 297
    },
    "id": "rE5nX1KdGeSO",
    "outputId": "aeb1d092-d12f-4c4f-f75f-44be99aee2c1"
   },
   "outputs": [
    {
     "data": {
      "image/png": "[encoded data removed]",
      "text/plain": [
       "<Figure size 432x288 with 1 Axes>"
      ]
     },
     "metadata": {},
     "output_type": "display_data"
    }
   ],
   "source": [
    "# Plot real examples\n",
    "bbox = [-2, 2, -2, 2]\n",
    "plot_on_ax(plt.gca(), real_examples, bbox=bbox)\n",
    "plt.tight_layout()\n",
    "sns.despine()\n",
    "pml.savefig(\"gan_gmm_data.pdf\")\n",
    "plt.show()"
   ]
  },
  {
   "cell_type": "code",
   "execution_count": 30,
   "metadata": {
    "id": "8blvWBr0tE9-"
   },
   "outputs": [],
   "source": [
    "# Create train states for the discriminator and the generator\n",
    "lr = 0.05\n",
    "disc_state = train_state.TrainState.create(\n",
    "    apply_fn=discriminator.apply, params=disc_params, tx=optax.sgd(learning_rate=lr)\n",
    ")\n",
    "gen_state = train_state.TrainState.create(apply_fn=generator.apply, params=gen_params, tx=optax.sgd(learning_rate=lr))"
   ]
  },
  {
   "cell_type": "code",
   "execution_count": 31,
   "metadata": {
    "id": "0rcCaouJuqBX"
   },
   "outputs": [],
   "source": [
    "# x and y grid for plotting discriminator contours\n",
    "x = jnp.arange(-2.0, 2.0, 0.1)\n",
    "y = jnp.arange(-2.0, 2.0, 0.1)\n",
    "X, Y = jnp.meshgrid(x, y)\n",
    "pairs = jnp.stack((X, Y), axis=-1)\n",
    "pairs = jnp.reshape(pairs, (-1, 2))\n",
    "\n",
    "# Latents for testing generator\n",
    "test_latents = jax.random.normal(rng, shape=(batch_size * 10, latent_size))"
   ]
  },
  {
   "cell_type": "code",
   "execution_count": 32,
   "metadata": {
    "colab": {
     "base_uri": "https://localhost:8080/"
    },
    "id": "67-i9agBrMgg",
    "outputId": "402cbd7d-781a-4454-c9c4-125ac896f800"
   },
   "outputs": [
    {
     "name": "stdout",
     "output_type": "stream",
     "text": [
      "i = 0, Discriminator Loss = 1.3994444608688354, Generator Loss = 0.7146230340003967\n",
      "i = 2000, Discriminator Loss = 1.252339243888855, Generator Loss = 0.7533749341964722\n",
      "i = 4000, Discriminator Loss = 1.1361539363861084, Generator Loss = 0.739945650100708\n",
      "i = 6000, Discriminator Loss = 0.9970182776451111, Generator Loss = 1.6042615175247192\n",
      "i = 8000, Discriminator Loss = 0.8922513723373413, Generator Loss = 1.8515212535858154\n",
      "i = 10000, Discriminator Loss = 0.7909914255142212, Generator Loss = 1.2700555324554443\n",
      "i = 12000, Discriminator Loss = 0.45676666498184204, Generator Loss = 3.2579092979431152\n",
      "i = 14000, Discriminator Loss = 0.3048436641693115, Generator Loss = 3.015509605407715\n",
      "i = 16000, Discriminator Loss = 0.7251914143562317, Generator Loss = 6.251989364624023\n",
      "i = 18000, Discriminator Loss = 0.41163283586502075, Generator Loss = 3.460146188735962\n",
      "i = 20000, Discriminator Loss = 0.42174386978149414, Generator Loss = 2.3319690227508545\n"
     ]
    }
   ],
   "source": [
    "num_iters = 20001\n",
    "n_save = 2000\n",
    "draw_contours = False\n",
    "history = []\n",
    "\n",
    "for i in range(num_iters):\n",
    "    rng_iter = jax.random.fold_in(rng, i)\n",
    "    data_rng, latent_rng = jax.random.split(rng_iter)\n",
    "    # Sample minibatch of examples\n",
    "    real_examples = real_data(data_rng, batch_size)\n",
    "    # Sample minibatch of latents\n",
    "    latents = jax.random.normal(latent_rng, shape=(batch_size, latent_size))\n",
    "    # Update both the generator\n",
    "    disc_state, gen_state, disc_loss, gen_loss = train_step(disc_state, gen_state, latents, real_examples)\n",
    "    if i % n_save == 0:\n",
    "        print(f\"i = {i}, Discriminator Loss = {disc_loss}, \" + f\"Generator Loss = {gen_loss}\")\n",
    "        # Generate examples using the test latents\n",
    "        fake_examples = gen_state.apply_fn(gen_state.params, test_latents)\n",
    "        if draw_contours:\n",
    "            real_logits = disc_state.apply_fn(disc_state.params, pairs)\n",
    "            disc_contour = -real_logits + jax.nn.log_sigmoid(real_logits)\n",
    "        else:\n",
    "            disc_contour = None\n",
    "        history.append((i, fake_examples, disc_contour, disc_loss, gen_loss))"
   ]
  },
  {
   "cell_type": "markdown",
   "metadata": {
    "id": "JPhrgG1pAW_R"
   },
   "source": [
    "# Plot Results\n",
    "\n",
    "Plot the data and the examples generated by the generator."
   ]
  },
  {
   "cell_type": "code",
   "execution_count": null,
   "metadata": {
    "colab": {
     "base_uri": "https://localhost:8080/",
     "height": 1000
    },
    "id": "xczrYKrW-SZh",
    "outputId": "bd027dea-a053-4a48-f790-b571d290b953"
   },
   "outputs": [
    {
     "data": {
      "image/png": "[encoded data removed]",
      "text/plain": [
       "<Figure size 432x288 with 1 Axes>"
      ]
     },
     "metadata": {},
     "output_type": "display_data"
    },
    {
     "data": {
      "image/png": "[encoded data removed]",
      "text/plain": [
       "<Figure size 432x288 with 1 Axes>"
      ]
     },
     "metadata": {},
     "output_type": "display_data"
    },
    {
     "data": {
      "image/png": "[encoded data removed]",
      "text/plain": [
       "<Figure size 432x288 with 1 Axes>"
      ]
     },
     "metadata": {},
     "output_type": "display_data"
    },
    {
     "data": {
      "image/png": "[encoded data removed]",
      "text/plain": [
       "<Figure size 432x288 with 1 Axes>"
      ]
     },
     "metadata": {},
     "output_type": "display_data"
    }
   ],
   "source": [
    "# Plot generated examples from history\n",
    "for i, hist in enumerate(history):\n",
    "    iter, fake_examples, contours, disc_loss, gen_loss = hist\n",
    "    plot_on_ax(\n",
    "        plt.gca(),\n",
    "        fake_examples,\n",
    "        contours=contours,\n",
    "        bbox=bbox,\n",
    "        title=f\"Disc Loss: {disc_loss:.3f} \\n Gen Loss: {gen_loss:.3f}\",\n",
    "    )\n",
    "\n",
    "    if (iter == 2000) or (iter == 4000) or (iter == 8000) or (iter == 12000) or (iter == 14000):\n",
    "        plt.tight_layout()\n",
    "        sns.despine()\n",
    "        pml.savefig(f\"gan_gmm_iter_{iter}.pdf\")\n",
    "        plt.show()\n",
    "    else:\n",
    "        plt.tight_layout()\n",
    "        # plt.savefig(f\"gan_gmm_iter_{iter}.pdf\")\n",
    "        plt.show()"
   ]
  },
  {
   "cell_type": "code",
   "execution_count": null,
   "metadata": {
    "colab": {
     "base_uri": "https://localhost:8080/",
     "height": 1000
    },
    "id": "9K1qsSaANW1W",
    "outputId": "40fb2fe1-db6d-4fba-be65-3914531d75d7"
   },
   "outputs": [],
   "source": [
    "cols = 3\n",
    "rows = math.ceil((len(history) + 1) / cols)\n",
    "bbox = [-2, 2, -2, 2]\n",
    "\n",
    "fig, axs = plt.subplots(rows, cols, figsize=(cols * 3, rows * 3), dpi=200)\n",
    "axs = axs.flatten()\n",
    "\n",
    "# Plot real examples\n",
    "plot_on_ax(axs[0], real_examples, bbox=bbox, title=\"Data\")\n",
    "\n",
    "# Plot generated examples from history\n",
    "for i, hist in enumerate(history):\n",
    "    iter, fake_examples, contours, disc_loss, gen_loss = hist\n",
    "    plot_on_ax(\n",
    "        axs[i + 1],\n",
    "        fake_examples,\n",
    "        contours=contours,\n",
    "        bbox=bbox,\n",
    "        xlabel=f\"Disc Loss: {disc_loss:.3f} | Gen Loss: {gen_loss:.3f}\",\n",
    "        title=f\"Samples at Iteration {iter}\",\n",
    "    )\n",
    "\n",
    "# Remove extra plots from the figure\n",
    "for i in range(len(history) + 1, len(axs)):\n",
    "    axs[i].remove()\n",
    "plt.tight_layout()\n",
    "plt.show()"
   ]
  },
  {
   "cell_type": "code",
   "execution_count": null,
   "metadata": {},
   "outputs": [],
   "source": []
  },
  {
   "cell_type": "code",
   "execution_count": null,
   "metadata": {},
   "outputs": [],
   "source": []
  },
  {
   "cell_type": "code",
   "execution_count": null,
   "metadata": {},
   "outputs": [],
   "source": []
  }
 ],
 "metadata": {
  "accelerator": "GPU",
  "colab": {
   "collapsed_sections": [],
   "name": "gan_mixture_of_gaussians.ipynb",
   "provenance": []
  },
  "kernelspec": {
   "display_name": "Python 3 (ipykernel)",
   "language": "python",
   "name": "python3"
  },
  "language_info": {
   "codemirror_mode": {
    "name": "ipython",
    "version": 3
   },
   "file_extension": ".py",
   "mimetype": "text/x-python",
   "name": "python",
   "nbconvert_exporter": "python",
   "pygments_lexer": "ipython3",
   "version": "3.8.10"
  }
 },
 "nbformat": 4,
 "nbformat_minor": 1
}
